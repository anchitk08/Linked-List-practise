{
 "cells": [
  {
   "cell_type": "code",
   "execution_count": 23,
   "metadata": {},
   "outputs": [],
   "source": [
    "class Node:\n",
    "    def __init__(self,data):\n",
    "        self.data = data\n",
    "        self.next = None\n",
    "def InputLL():\n",
    "    inputList = [int(i) for i in input().split()]\n",
    "    head = None\n",
    "    tail = None\n",
    "    for i in inputList:\n",
    "        if i == -1:\n",
    "            break\n",
    "        else:\n",
    "            newNode = Node(i)\n",
    "        if head is None:\n",
    "            head = newNode\n",
    "            tail = newNode\n",
    "        else:\n",
    "            tail.next = newNode\n",
    "            tail = newNode\n",
    "    return head\n",
    "\n",
    "def printLL(head):\n",
    "    while head is not None:\n",
    "        print(str(head.data) + '->', end = \"\")\n",
    "        head = head.next\n",
    "    print(\"None\")\n",
    "    return\n",
    "\n",
    "def length(head) :\n",
    "\tcount = 0\n",
    "\ttemp = head\n",
    "\twhile temp is not None:\n",
    "\t\tcount += 1\n",
    "\t\ttemp = temp.next\n",
    "\treturn count\n",
    "\n",
    "def insertIthnode(head, i, data):\n",
    "    if i < 0 or i > length(head):\n",
    "        return head\n",
    "    curr = head\n",
    "    prev = None\n",
    "    count = 0\n",
    "    newNode = Node(data)\n",
    "    while count != i:\n",
    "        prev = curr\n",
    "        curr = curr.next\n",
    "        count += 1\n",
    "    if prev == None:\n",
    "        head = newNode\n",
    "    else:\n",
    "        prev.next = newNode\n",
    "    newNode.next = curr\n",
    "    return head"
   ]
  },
  {
   "cell_type": "code",
   "execution_count": 26,
   "metadata": {},
   "outputs": [
    {
     "name": "stdout",
     "output_type": "stream",
     "text": [
      "1 2 3 4 5 6 7 -1\n",
      "1->2->3->4->5->6->7->None\n",
      "1->2->5->3->4->5->6->7->None\n",
      "5->1->2->5->3->4->5->6->7->None\n"
     ]
    }
   ],
   "source": [
    "head = InputLL()\n",
    "printLL(head)\n",
    "head = insertIthnode(head, 2, 5)\n",
    "printLL(head)\n",
    "head = insertIthnode(head, 0, 5)\n",
    "printLL(head)"
   ]
  }
 ],
 "metadata": {
  "kernelspec": {
   "display_name": "Python 3",
   "language": "python",
   "name": "python3"
  },
  "language_info": {
   "codemirror_mode": {
    "name": "ipython",
    "version": 3
   },
   "file_extension": ".py",
   "mimetype": "text/x-python",
   "name": "python",
   "nbconvert_exporter": "python",
   "pygments_lexer": "ipython3",
   "version": "3.7.4"
  }
 },
 "nbformat": 4,
 "nbformat_minor": 2
}
